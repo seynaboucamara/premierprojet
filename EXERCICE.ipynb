{
 "cells": [
  {
   "cell_type": "code",
   "execution_count": 2,
   "metadata": {},
   "outputs": [
    {
     "name": "stdout",
     "output_type": "stream",
     "text": [
      "donnez le premier coeficient: 3\n",
      "donnez le deuxieme coeficient: 4\n",
      "donnez le dernier coeficient: 2\n",
      "l'équation à resoudre est  3 x^2  +  4 x  +  2\n",
      "imposssible\n"
     ]
    }
   ],
   "source": [
    "from math import sqrt\n",
    "a=int(input(\"donnez le premier coeficient: \"))\n",
    "b=int(input(\"donnez le deuxieme coeficient: \"))\n",
    "c=int(input(\"donnez le dernier coeficient: \"))\n",
    "print(\"l'équation à resoudre est \",a,\"x^2\", \" + \",b,\"x\",\" + \",c)\n",
    "\n",
    "def delta():\n",
    "    return b**2 - (4*a*c)\n",
    "d = delta()\n",
    "if d > 0:\n",
    "    def delta_postif():\n",
    "        return(-b-sqrt(d) / 2 * a, -b+ sqrt(d) / 2 * a)\n",
    "    print(\"(X1,X2)=\",delta_positif())\n",
    "if d==0:\n",
    "    def delta_nul():\n",
    "        return -b / 2 * a\n",
    "    print(\"x0=\",delta_nul())\n",
    "    \n",
    "if d < 0:\n",
    "    print(\"imposssible\")\n"
   ]
  },
  {
   "cell_type": "code",
   "execution_count": 4,
   "metadata": {},
   "outputs": [
    {
     "name": "stdout",
     "output_type": "stream",
     "text": [
      "veuillez saisir la hauteur du triangle : 8\n",
      "       *\n",
      "      ***\n",
      "     *****\n",
      "    *******\n",
      "   *********\n",
      "  ***********\n",
      " *************\n",
      "***************\n"
     ]
    }
   ],
   "source": [
    "H = int (input(\"veuillez saisir la hauteur du triangle : \"))\n",
    "nbr=1\n",
    "espace=H -1\n",
    "for i in range (H):\n",
    "        print(espace*\" \"+nbr*\"*\")\n",
    "        nbr +=2\n",
    "        espace -=1\n",
    "    \n",
    "       "
   ]
  },
  {
   "cell_type": "code",
   "execution_count": null,
   "metadata": {},
   "outputs": [],
   "source": [
    "from random import randint\n",
    "nom=(input(\"Login:\"))\n",
    "motpass=(input(\"password\"))\n",
    "dictionnaire()\n",
    "dictionnaire 1 = \n"
   ]
  }
 ],
 "metadata": {
  "kernelspec": {
   "display_name": "Python 3",
   "language": "python",
   "name": "python3"
  },
  "language_info": {
   "codemirror_mode": {
    "name": "ipython",
    "version": 3
   },
   "file_extension": ".py",
   "mimetype": "text/x-python",
   "name": "python",
   "nbconvert_exporter": "python",
   "pygments_lexer": "ipython3",
   "version": "3.7.1"
  }
 },
 "nbformat": 4,
 "nbformat_minor": 2
}
